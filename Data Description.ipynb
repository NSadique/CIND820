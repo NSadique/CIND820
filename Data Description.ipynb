{
 "cells": [
  {
   "cell_type": "code",
   "execution_count": 8,
   "metadata": {},
   "outputs": [
    {
     "data": {
      "text/html": [
       "<div>\n",
       "<style scoped>\n",
       "    .dataframe tbody tr th:only-of-type {\n",
       "        vertical-align: middle;\n",
       "    }\n",
       "\n",
       "    .dataframe tbody tr th {\n",
       "        vertical-align: top;\n",
       "    }\n",
       "\n",
       "    .dataframe thead th {\n",
       "        text-align: right;\n",
       "    }\n",
       "</style>\n",
       "<table border=\"1\" class=\"dataframe\">\n",
       "  <thead>\n",
       "    <tr style=\"text-align: right;\">\n",
       "      <th></th>\n",
       "      <th>Count of Cattle</th>\n",
       "      <th>Count of Calves</th>\n",
       "      <th>Total Cattle</th>\n",
       "      <th>Average Weight Cattle</th>\n",
       "      <th>Average Weight Calves</th>\n",
       "    </tr>\n",
       "  </thead>\n",
       "  <tbody>\n",
       "    <tr>\n",
       "      <th>count</th>\n",
       "      <td>101.00</td>\n",
       "      <td>101.00</td>\n",
       "      <td>101.00</td>\n",
       "      <td>45.00</td>\n",
       "      <td>45.00</td>\n",
       "    </tr>\n",
       "    <tr>\n",
       "      <th>mean</th>\n",
       "      <td>2604.02</td>\n",
       "      <td>763.58</td>\n",
       "      <td>3367.60</td>\n",
       "      <td>324.40</td>\n",
       "      <td>105.40</td>\n",
       "    </tr>\n",
       "    <tr>\n",
       "      <th>std</th>\n",
       "      <td>989.13</td>\n",
       "      <td>390.21</td>\n",
       "      <td>887.66</td>\n",
       "      <td>44.45</td>\n",
       "      <td>30.87</td>\n",
       "    </tr>\n",
       "    <tr>\n",
       "      <th>min</th>\n",
       "      <td>933.10</td>\n",
       "      <td>219.30</td>\n",
       "      <td>1444.40</td>\n",
       "      <td>248.40</td>\n",
       "      <td>50.70</td>\n",
       "    </tr>\n",
       "    <tr>\n",
       "      <th>25%</th>\n",
       "      <td>1673.50</td>\n",
       "      <td>363.00</td>\n",
       "      <td>2876.20</td>\n",
       "      <td>285.80</td>\n",
       "      <td>79.30</td>\n",
       "    </tr>\n",
       "    <tr>\n",
       "      <th>50%</th>\n",
       "      <td>2827.30</td>\n",
       "      <td>705.20</td>\n",
       "      <td>3549.80</td>\n",
       "      <td>334.90</td>\n",
       "      <td>112.90</td>\n",
       "    </tr>\n",
       "    <tr>\n",
       "      <th>75%</th>\n",
       "      <td>3406.20</td>\n",
       "      <td>1120.20</td>\n",
       "      <td>3953.50</td>\n",
       "      <td>357.70</td>\n",
       "      <td>119.20</td>\n",
       "    </tr>\n",
       "    <tr>\n",
       "      <th>max</th>\n",
       "      <td>4476.30</td>\n",
       "      <td>1478.30</td>\n",
       "      <td>5480.00</td>\n",
       "      <td>390.50</td>\n",
       "      <td>155.40</td>\n",
       "    </tr>\n",
       "  </tbody>\n",
       "</table>\n",
       "</div>"
      ],
      "text/plain": [
       "       Count of Cattle  Count of Calves  Total Cattle  Average Weight Cattle  \\\n",
       "count           101.00           101.00        101.00                  45.00   \n",
       "mean           2604.02           763.58       3367.60                 324.40   \n",
       "std             989.13           390.21        887.66                  44.45   \n",
       "min             933.10           219.30       1444.40                 248.40   \n",
       "25%            1673.50           363.00       2876.20                 285.80   \n",
       "50%            2827.30           705.20       3549.80                 334.90   \n",
       "75%            3406.20          1120.20       3953.50                 357.70   \n",
       "max            4476.30          1478.30       5480.00                 390.50   \n",
       "\n",
       "       Average Weight Calves  \n",
       "count                  45.00  \n",
       "mean                  105.40  \n",
       "std                    30.87  \n",
       "min                    50.70  \n",
       "25%                    79.30  \n",
       "50%                   112.90  \n",
       "75%                   119.20  \n",
       "max                   155.40  "
      ]
     },
     "execution_count": 8,
     "metadata": {},
     "output_type": "execute_result"
    }
   ],
   "source": [
    "import pandas as pd\n",
    "import numpy as np\n",
    "\n",
    "pd.set_option('display.float_format', lambda x: '%.2f' % x)\n",
    "\n",
    "df = pd.read_excel('Canada Cattle.xlsx')\n",
    "\n",
    "# Set Year as index and convert to_period to yearly\n",
    "df['Year'] = pd.to_datetime(df['Year'], format='%Y')\n",
    "df = df.set_index('Year')\n",
    "df = df.to_period('Y')\n",
    "\n",
    "# df.describe()\n",
    "\n",
    "# Copy the dataframe\n",
    "df_full = df.copy()\n",
    "\n",
    "# Drop the columns we don't need\n",
    "df['Total Cattle'] = df['Count of Cattle'] + df['Count of Calves']\n",
    "# df.drop(['Average Weight Cattle', 'Average Weight Calves'], axis=1, inplace=True)\n",
    "\n",
    "df=df[['Count of Cattle', 'Count of Calves','Total Cattle','Average Weight Cattle', 'Average Weight Calves']]\n",
    "\n",
    "\n",
    "df.describe()\n",
    "# df.plot()"
   ]
  },
  {
   "cell_type": "code",
   "execution_count": 12,
   "metadata": {},
   "outputs": [
    {
     "data": {
      "text/plain": [
       "<AxesSubplot:>"
      ]
     },
     "execution_count": 12,
     "metadata": {},
     "output_type": "execute_result"
    },
    {
     "data": {
      "image/png": "[encoded data removed]",
      "text/plain": [
       "<Figure size 432x288 with 2 Axes>"
      ]
     },
     "metadata": {
      "needs_background": "light"
     },
     "output_type": "display_data"
    }
   ],
   "source": [
    "import seaborn as sns\n",
    "# Remove first column from dataframe for correlation analysis\n",
    "# dfcorr = df.iloc[:, 1:]\n",
    "corr = df.corr()\n",
    "sns.heatmap(corr)\n"
   ]
  }
 ],
 "metadata": {
  "kernelspec": {
   "display_name": "Python 3.9.5 64-bit",
   "language": "python",
   "name": "python3"
  },
  "language_info": {
   "codemirror_mode": {
    "name": "ipython",
    "version": 3
   },
   "file_extension": ".py",
   "mimetype": "text/x-python",
   "name": "python",
   "nbconvert_exporter": "python",
   "pygments_lexer": "ipython3",
   "version": "3.9.5"
  },
  "orig_nbformat": 4,
  "vscode": {
   "interpreter": {
    "hash": "f3afe33e2ab4e886e2cfdae0da08c25d87b068f7616b32e3cb58d25252cf6f6a"
   }
  }
 },
 "nbformat": 4,
 "nbformat_minor": 2
}
