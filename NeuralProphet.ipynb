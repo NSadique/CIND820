{
 "cells": [
  {
   "cell_type": "code",
   "execution_count": 12,
   "metadata": {},
   "outputs": [],
   "source": [
    "import pandas as pd\n",
    "import numpy as np\n",
    "\n",
    "pd.set_option('display.float_format', lambda x: '%.2f' % x)\n",
    "\n",
    "df_cattle = pd.read_excel('Canada Cattle.xlsx')\n",
    "df_calve = df_cattle.copy()\n",
    "\n",
    "# Set Year as index and convert to_period to yearly\n",
    "df_cattle['ds'] = pd.to_datetime(df_cattle['Year'], format='%Y')\n",
    "df_calve['ds'] = pd.to_datetime(df_calve['Year'], format='%Y')\n",
    "\n",
    "# Drop the columns we don't need\n",
    "df_cattle['y'] = df_cattle['Count of Cattle']\n",
    "df_cattle.drop(['Count of Cattle', 'Count of Calves', 'Average Weight Cattle', 'Average Weight Calves', 'Year'], axis=1, inplace=True)\n",
    "\n",
    "df_calve['y'] = df_calve['Count of Calves']\n",
    "df_calve.drop(['Count of Cattle', 'Count of Calves', 'Average Weight Cattle', 'Average Weight Calves', 'Year'], axis=1, inplace=True)\n"
   ]
  },
  {
   "cell_type": "markdown",
   "metadata": {},
   "source": [
    "For Cattle"
   ]
  },
  {
   "cell_type": "code",
   "execution_count": 13,
   "metadata": {},
   "outputs": [
    {
     "name": "stderr",
     "output_type": "stream",
     "text": [
      "INFO - (NP.df_utils._infer_frequency) - Major frequency YS corresponds to 99.01% of the data.\n",
      "INFO - (NP.df_utils._infer_frequency) - Defined frequency is equal to major frequency - Y\n",
      "INFO - (NP.df_utils._infer_frequency) - Major frequency YS corresponds to 98.765% of the data.\n",
      "INFO - (NP.df_utils._infer_frequency) - Defined frequency is equal to major frequency - Y\n",
      "INFO - (NP.config.init_data_params) - Setting normalization to global as only one dataframe provided for training.\n",
      "INFO - (NP.utils.set_auto_seasonalities) - Disabling weekly seasonality. Run NeuralProphet with weekly_seasonality=True to override this.\n",
      "INFO - (NP.utils.set_auto_seasonalities) - Disabling daily seasonality. Run NeuralProphet with daily_seasonality=True to override this.\n",
      "INFO - (NP.config.set_auto_batch_epoch) - Auto-set batch_size to 16\n",
      "INFO - (NP.config.set_auto_batch_epoch) - Auto-set epochs to 617\n",
      "Epoch[617/617]: 100%|██████████| 617/617 [00:09<00:00, 62.67it/s, SmoothL1Loss=0.00342, MAE=181, RMSE=233, RegLoss=0]     \n",
      "INFO - (NP.df_utils._infer_frequency) - Major frequency YS corresponds to 95.0% of the data.\n",
      "INFO - (NP.df_utils._infer_frequency) - Defined frequency is equal to major frequency - Y\n",
      "INFO - (NP.forecaster._evaluate) - Validation metrics:    SmoothL1Loss     MAE    RMSE\n",
      "1         0.010 338.865 411.647\n"
     ]
    },
    {
     "data": {
      "text/html": [
       "<div>\n",
       "<style scoped>\n",
       "    .dataframe tbody tr th:only-of-type {\n",
       "        vertical-align: middle;\n",
       "    }\n",
       "\n",
       "    .dataframe tbody tr th {\n",
       "        vertical-align: top;\n",
       "    }\n",
       "\n",
       "    .dataframe thead th {\n",
       "        text-align: right;\n",
       "    }\n",
       "</style>\n",
       "<table border=\"1\" class=\"dataframe\">\n",
       "  <thead>\n",
       "    <tr style=\"text-align: right;\">\n",
       "      <th></th>\n",
       "      <th>SmoothL1Loss</th>\n",
       "      <th>MAE</th>\n",
       "      <th>RMSE</th>\n",
       "    </tr>\n",
       "  </thead>\n",
       "  <tbody>\n",
       "    <tr>\n",
       "      <th>0</th>\n",
       "      <td>0.01</td>\n",
       "      <td>338.86</td>\n",
       "      <td>411.65</td>\n",
       "    </tr>\n",
       "  </tbody>\n",
       "</table>\n",
       "</div>"
      ],
      "text/plain": [
       "   SmoothL1Loss    MAE   RMSE\n",
       "0          0.01 338.86 411.65"
      ]
     },
     "execution_count": 13,
     "metadata": {},
     "output_type": "execute_result"
    }
   ],
   "source": [
    "# For unnormalized dataframe\n",
    "from neuralprophet import NeuralProphet\n",
    "\n",
    "m = NeuralProphet(seasonality_mode= \"multiplicative\", learning_rate = 0.1)\n",
    "\n",
    "df_train, df_test = m.split_df(df=df_cattle, freq = \"Y\", valid_p = 0.2)\n",
    "\n",
    "metrics_train = m.fit(df=df_train, freq = \"Y\")\n",
    "metrics_test = m.test(df=df_test)\n",
    "\n",
    "metrics_test"
   ]
  },
  {
   "cell_type": "code",
   "execution_count": 14,
   "metadata": {},
   "outputs": [
    {
     "name": "stderr",
     "output_type": "stream",
     "text": [
      "INFO - (NP.df_utils._infer_frequency) - Major frequency YS corresponds to 99.01% of the data.\n",
      "INFO - (NP.df_utils._infer_frequency) - Defined frequency is equal to major frequency - Y\n",
      "INFO - (NP.df_utils._infer_frequency) - Major frequency YS corresponds to 99.01% of the data.\n",
      "INFO - (NP.df_utils._infer_frequency) - Defined frequency is equal to major frequency - Y\n"
     ]
    },
    {
     "data": {
      "text/html": [
       "<div>\n",
       "<style scoped>\n",
       "    .dataframe tbody tr th:only-of-type {\n",
       "        vertical-align: middle;\n",
       "    }\n",
       "\n",
       "    .dataframe tbody tr th {\n",
       "        vertical-align: top;\n",
       "    }\n",
       "\n",
       "    .dataframe thead th {\n",
       "        text-align: right;\n",
       "    }\n",
       "</style>\n",
       "<table border=\"1\" class=\"dataframe\">\n",
       "  <thead>\n",
       "    <tr style=\"text-align: right;\">\n",
       "      <th></th>\n",
       "      <th>ds</th>\n",
       "      <th>y</th>\n",
       "      <th>yhat1</th>\n",
       "      <th>residual1</th>\n",
       "      <th>trend</th>\n",
       "      <th>season_yearly</th>\n",
       "    </tr>\n",
       "  </thead>\n",
       "  <tbody>\n",
       "    <tr>\n",
       "      <th>0</th>\n",
       "      <td>1920-01-01</td>\n",
       "      <td>1091.40</td>\n",
       "      <td>1027.34</td>\n",
       "      <td>-64.06</td>\n",
       "      <td>1122.24</td>\n",
       "      <td>-0.50</td>\n",
       "    </tr>\n",
       "    <tr>\n",
       "      <th>1</th>\n",
       "      <td>1921-01-01</td>\n",
       "      <td>933.10</td>\n",
       "      <td>1022.60</td>\n",
       "      <td>89.50</td>\n",
       "      <td>1109.17</td>\n",
       "      <td>-0.49</td>\n",
       "    </tr>\n",
       "    <tr>\n",
       "      <th>2</th>\n",
       "      <td>1922-01-01</td>\n",
       "      <td>990.80</td>\n",
       "      <td>1015.44</td>\n",
       "      <td>24.64</td>\n",
       "      <td>1096.13</td>\n",
       "      <td>-0.49</td>\n",
       "    </tr>\n",
       "    <tr>\n",
       "      <th>3</th>\n",
       "      <td>1923-01-01</td>\n",
       "      <td>979.40</td>\n",
       "      <td>1008.35</td>\n",
       "      <td>28.95</td>\n",
       "      <td>1083.10</td>\n",
       "      <td>-0.50</td>\n",
       "    </tr>\n",
       "    <tr>\n",
       "      <th>4</th>\n",
       "      <td>1924-01-01</td>\n",
       "      <td>977.40</td>\n",
       "      <td>1001.34</td>\n",
       "      <td>23.94</td>\n",
       "      <td>1070.06</td>\n",
       "      <td>-0.50</td>\n",
       "    </tr>\n",
       "    <tr>\n",
       "      <th>...</th>\n",
       "      <td>...</td>\n",
       "      <td>...</td>\n",
       "      <td>...</td>\n",
       "      <td>...</td>\n",
       "      <td>...</td>\n",
       "      <td>...</td>\n",
       "    </tr>\n",
       "    <tr>\n",
       "      <th>96</th>\n",
       "      <td>2016-01-01</td>\n",
       "      <td>2849.80</td>\n",
       "      <td>3092.93</td>\n",
       "      <td>243.13</td>\n",
       "      <td>5267.95</td>\n",
       "      <td>-0.50</td>\n",
       "    </tr>\n",
       "    <tr>\n",
       "      <th>97</th>\n",
       "      <td>2017-01-01</td>\n",
       "      <td>3052.00</td>\n",
       "      <td>3135.86</td>\n",
       "      <td>83.86</td>\n",
       "      <td>5266.31</td>\n",
       "      <td>-0.49</td>\n",
       "    </tr>\n",
       "    <tr>\n",
       "      <th>98</th>\n",
       "      <td>2018-01-01</td>\n",
       "      <td>3230.40</td>\n",
       "      <td>3120.69</td>\n",
       "      <td>-109.71</td>\n",
       "      <td>5264.68</td>\n",
       "      <td>-0.49</td>\n",
       "    </tr>\n",
       "    <tr>\n",
       "      <th>99</th>\n",
       "      <td>2019-01-01</td>\n",
       "      <td>3381.30</td>\n",
       "      <td>3105.30</td>\n",
       "      <td>-276.00</td>\n",
       "      <td>5263.05</td>\n",
       "      <td>-0.50</td>\n",
       "    </tr>\n",
       "    <tr>\n",
       "      <th>100</th>\n",
       "      <td>2020-01-01</td>\n",
       "      <td>3319.20</td>\n",
       "      <td>3089.68</td>\n",
       "      <td>-229.52</td>\n",
       "      <td>5261.42</td>\n",
       "      <td>-0.50</td>\n",
       "    </tr>\n",
       "  </tbody>\n",
       "</table>\n",
       "<p>101 rows × 6 columns</p>\n",
       "</div>"
      ],
      "text/plain": [
       "            ds       y   yhat1  residual1   trend  season_yearly\n",
       "0   1920-01-01 1091.40 1027.34     -64.06 1122.24          -0.50\n",
       "1   1921-01-01  933.10 1022.60      89.50 1109.17          -0.49\n",
       "2   1922-01-01  990.80 1015.44      24.64 1096.13          -0.49\n",
       "3   1923-01-01  979.40 1008.35      28.95 1083.10          -0.50\n",
       "4   1924-01-01  977.40 1001.34      23.94 1070.06          -0.50\n",
       "..         ...     ...     ...        ...     ...            ...\n",
       "96  2016-01-01 2849.80 3092.93     243.13 5267.95          -0.50\n",
       "97  2017-01-01 3052.00 3135.86      83.86 5266.31          -0.49\n",
       "98  2018-01-01 3230.40 3120.69    -109.71 5264.68          -0.49\n",
       "99  2019-01-01 3381.30 3105.30    -276.00 5263.05          -0.50\n",
       "100 2020-01-01 3319.20 3089.68    -229.52 5261.42          -0.50\n",
       "\n",
       "[101 rows x 6 columns]"
      ]
     },
     "execution_count": 14,
     "metadata": {},
     "output_type": "execute_result"
    }
   ],
   "source": [
    "m.predict(df_cattle, decompose = True, raw = False)"
   ]
  },
  {
   "cell_type": "code",
   "execution_count": 6,
   "metadata": {},
   "outputs": [],
   "source": [
    "# Create a normalize function for columns\n",
    "def normalize(x):\n",
    "    return (x - x.min()) / (x.max() - x.min())\n",
    "\n",
    "# Normalize the y column\n",
    "df_cattle['y'] = normalize(df_cattle['y'])\n"
   ]
  },
  {
   "cell_type": "code",
   "execution_count": 7,
   "metadata": {},
   "outputs": [
    {
     "name": "stderr",
     "output_type": "stream",
     "text": [
      "INFO - (NP.df_utils._infer_frequency) - Major frequency YS corresponds to 99.01% of the data.\n",
      "INFO - (NP.df_utils._infer_frequency) - Defined frequency is equal to major frequency - Y\n",
      "INFO - (NP.df_utils._infer_frequency) - Major frequency YS corresponds to 98.765% of the data.\n",
      "INFO - (NP.df_utils._infer_frequency) - Defined frequency is equal to major frequency - Y\n",
      "INFO - (NP.config.init_data_params) - Setting normalization to global as only one dataframe provided for training.\n",
      "INFO - (NP.utils.set_auto_seasonalities) - Disabling weekly seasonality. Run NeuralProphet with weekly_seasonality=True to override this.\n",
      "INFO - (NP.utils.set_auto_seasonalities) - Disabling daily seasonality. Run NeuralProphet with daily_seasonality=True to override this.\n",
      "INFO - (NP.config.set_auto_batch_epoch) - Auto-set batch_size to 16\n",
      "INFO - (NP.config.set_auto_batch_epoch) - Auto-set epochs to 617\n",
      "Epoch[617/617]: 100%|██████████| 617/617 [00:09<00:00, 62.11it/s, SmoothL1Loss=0.00352, MAE=0.0513, RMSE=0.0667, RegLoss=0]\n",
      "INFO - (NP.df_utils._infer_frequency) - Major frequency YS corresponds to 95.0% of the data.\n",
      "INFO - (NP.df_utils._infer_frequency) - Defined frequency is equal to major frequency - Y\n",
      "INFO - (NP.forecaster._evaluate) - Validation metrics:    SmoothL1Loss    MAE   RMSE\n",
      "1         0.011  0.099  0.120\n"
     ]
    },
    {
     "data": {
      "text/html": [
       "<div>\n",
       "<style scoped>\n",
       "    .dataframe tbody tr th:only-of-type {\n",
       "        vertical-align: middle;\n",
       "    }\n",
       "\n",
       "    .dataframe tbody tr th {\n",
       "        vertical-align: top;\n",
       "    }\n",
       "\n",
       "    .dataframe thead th {\n",
       "        text-align: right;\n",
       "    }\n",
       "</style>\n",
       "<table border=\"1\" class=\"dataframe\">\n",
       "  <thead>\n",
       "    <tr style=\"text-align: right;\">\n",
       "      <th></th>\n",
       "      <th>SmoothL1Loss</th>\n",
       "      <th>MAE</th>\n",
       "      <th>RMSE</th>\n",
       "    </tr>\n",
       "  </thead>\n",
       "  <tbody>\n",
       "    <tr>\n",
       "      <th>0</th>\n",
       "      <td>0.01</td>\n",
       "      <td>0.10</td>\n",
       "      <td>0.12</td>\n",
       "    </tr>\n",
       "  </tbody>\n",
       "</table>\n",
       "</div>"
      ],
      "text/plain": [
       "   SmoothL1Loss  MAE  RMSE\n",
       "0          0.01 0.10  0.12"
      ]
     },
     "execution_count": 7,
     "metadata": {},
     "output_type": "execute_result"
    }
   ],
   "source": [
    "# For normalized dataframe\n",
    "m = NeuralProphet(seasonality_mode= \"multiplicative\", learning_rate = 0.1)\n",
    "\n",
    "df_train_norm, df_test_norm = m.split_df(df=df_cattle, freq = \"Y\", valid_p = 0.2)\n",
    "\n",
    "metrics_train = m.fit(df=df_train_norm, freq = \"Y\")\n",
    "metrics_test = m.test(df=df_test_norm)\n",
    "\n",
    "metrics_test"
   ]
  },
  {
   "cell_type": "markdown",
   "metadata": {},
   "source": [
    "For Calve"
   ]
  },
  {
   "cell_type": "code",
   "execution_count": 8,
   "metadata": {},
   "outputs": [
    {
     "name": "stderr",
     "output_type": "stream",
     "text": [
      "INFO - (NP.df_utils._infer_frequency) - Major frequency YS corresponds to 99.01% of the data.\n",
      "INFO - (NP.df_utils._infer_frequency) - Defined frequency is equal to major frequency - Y\n",
      "INFO - (NP.df_utils._infer_frequency) - Major frequency YS corresponds to 98.765% of the data.\n",
      "INFO - (NP.df_utils._infer_frequency) - Defined frequency is equal to major frequency - Y\n",
      "INFO - (NP.config.init_data_params) - Setting normalization to global as only one dataframe provided for training.\n",
      "INFO - (NP.utils.set_auto_seasonalities) - Disabling weekly seasonality. Run NeuralProphet with weekly_seasonality=True to override this.\n",
      "INFO - (NP.utils.set_auto_seasonalities) - Disabling daily seasonality. Run NeuralProphet with daily_seasonality=True to override this.\n",
      "INFO - (NP.config.set_auto_batch_epoch) - Auto-set batch_size to 16\n",
      "INFO - (NP.config.set_auto_batch_epoch) - Auto-set epochs to 617\n",
      "Epoch[617/617]: 100%|██████████| 617/617 [00:09<00:00, 62.99it/s, SmoothL1Loss=0.00476, MAE=76.3, RMSE=91.2, RegLoss=0]\n",
      "INFO - (NP.df_utils._infer_frequency) - Major frequency YS corresponds to 95.0% of the data.\n",
      "INFO - (NP.df_utils._infer_frequency) - Defined frequency is equal to major frequency - Y\n",
      "INFO - (NP.forecaster._evaluate) - Validation metrics:    SmoothL1Loss     MAE    RMSE\n",
      "1         0.017 180.804 189.349\n"
     ]
    },
    {
     "data": {
      "text/html": [
       "<div>\n",
       "<style scoped>\n",
       "    .dataframe tbody tr th:only-of-type {\n",
       "        vertical-align: middle;\n",
       "    }\n",
       "\n",
       "    .dataframe tbody tr th {\n",
       "        vertical-align: top;\n",
       "    }\n",
       "\n",
       "    .dataframe thead th {\n",
       "        text-align: right;\n",
       "    }\n",
       "</style>\n",
       "<table border=\"1\" class=\"dataframe\">\n",
       "  <thead>\n",
       "    <tr style=\"text-align: right;\">\n",
       "      <th></th>\n",
       "      <th>SmoothL1Loss</th>\n",
       "      <th>MAE</th>\n",
       "      <th>RMSE</th>\n",
       "    </tr>\n",
       "  </thead>\n",
       "  <tbody>\n",
       "    <tr>\n",
       "      <th>0</th>\n",
       "      <td>0.02</td>\n",
       "      <td>180.80</td>\n",
       "      <td>189.35</td>\n",
       "    </tr>\n",
       "  </tbody>\n",
       "</table>\n",
       "</div>"
      ],
      "text/plain": [
       "   SmoothL1Loss    MAE   RMSE\n",
       "0          0.02 180.80 189.35"
      ]
     },
     "execution_count": 8,
     "metadata": {},
     "output_type": "execute_result"
    }
   ],
   "source": [
    "# For unnormalized dataframe\n",
    "m = NeuralProphet(seasonality_mode= \"multiplicative\", learning_rate = 0.1)\n",
    "\n",
    "df_train, df_test = m.split_df(df=df_calve, freq = \"Y\", valid_p = 0.2)\n",
    "\n",
    "metrics_train = m.fit(df=df_train, freq = \"Y\")\n",
    "metrics_test = m.test(df=df_test)\n",
    "\n",
    "metrics_test"
   ]
  },
  {
   "cell_type": "code",
   "execution_count": 9,
   "metadata": {},
   "outputs": [],
   "source": [
    "df_calve['y'] = normalize(df_calve['y'])"
   ]
  },
  {
   "cell_type": "code",
   "execution_count": 10,
   "metadata": {},
   "outputs": [
    {
     "name": "stderr",
     "output_type": "stream",
     "text": [
      "INFO - (NP.df_utils._infer_frequency) - Major frequency YS corresponds to 99.01% of the data.\n",
      "INFO - (NP.df_utils._infer_frequency) - Defined frequency is equal to major frequency - Y\n",
      "INFO - (NP.df_utils._infer_frequency) - Major frequency YS corresponds to 98.765% of the data.\n",
      "INFO - (NP.df_utils._infer_frequency) - Defined frequency is equal to major frequency - Y\n",
      "INFO - (NP.config.init_data_params) - Setting normalization to global as only one dataframe provided for training.\n",
      "INFO - (NP.utils.set_auto_seasonalities) - Disabling weekly seasonality. Run NeuralProphet with weekly_seasonality=True to override this.\n",
      "INFO - (NP.utils.set_auto_seasonalities) - Disabling daily seasonality. Run NeuralProphet with daily_seasonality=True to override this.\n",
      "INFO - (NP.config.set_auto_batch_epoch) - Auto-set batch_size to 16\n",
      "INFO - (NP.config.set_auto_batch_epoch) - Auto-set epochs to 617\n",
      "Epoch[617/617]: 100%|██████████| 617/617 [00:09<00:00, 66.62it/s, SmoothL1Loss=0.00471, MAE=0.0599, RMSE=0.0768, RegLoss=0]\n",
      "INFO - (NP.df_utils._infer_frequency) - Major frequency YS corresponds to 95.0% of the data.\n",
      "INFO - (NP.df_utils._infer_frequency) - Defined frequency is equal to major frequency - Y\n",
      "INFO - (NP.forecaster._evaluate) - Validation metrics:    SmoothL1Loss    MAE   RMSE\n",
      "1         0.015  0.133  0.140\n"
     ]
    },
    {
     "data": {
      "text/html": [
       "<div>\n",
       "<style scoped>\n",
       "    .dataframe tbody tr th:only-of-type {\n",
       "        vertical-align: middle;\n",
       "    }\n",
       "\n",
       "    .dataframe tbody tr th {\n",
       "        vertical-align: top;\n",
       "    }\n",
       "\n",
       "    .dataframe thead th {\n",
       "        text-align: right;\n",
       "    }\n",
       "</style>\n",
       "<table border=\"1\" class=\"dataframe\">\n",
       "  <thead>\n",
       "    <tr style=\"text-align: right;\">\n",
       "      <th></th>\n",
       "      <th>SmoothL1Loss</th>\n",
       "      <th>MAE</th>\n",
       "      <th>RMSE</th>\n",
       "    </tr>\n",
       "  </thead>\n",
       "  <tbody>\n",
       "    <tr>\n",
       "      <th>0</th>\n",
       "      <td>0.01</td>\n",
       "      <td>0.13</td>\n",
       "      <td>0.14</td>\n",
       "    </tr>\n",
       "  </tbody>\n",
       "</table>\n",
       "</div>"
      ],
      "text/plain": [
       "   SmoothL1Loss  MAE  RMSE\n",
       "0          0.01 0.13  0.14"
      ]
     },
     "execution_count": 10,
     "metadata": {},
     "output_type": "execute_result"
    }
   ],
   "source": [
    "# For normalized dataframe\n",
    "m = NeuralProphet(seasonality_mode= \"multiplicative\", learning_rate = 0.1)\n",
    "\n",
    "df_train_norm, df_test_norm = m.split_df(df=df_calve, freq = \"Y\", valid_p = 0.2)\n",
    "\n",
    "metrics_train = m.fit(df=df_train_norm, freq = \"Y\")\n",
    "metrics_test = m.test(df=df_test_norm)\n",
    "\n",
    "metrics_test"
   ]
  }
 ],
 "metadata": {
  "kernelspec": {
   "display_name": "Python 3.9.5 64-bit",
   "language": "python",
   "name": "python3"
  },
  "language_info": {
   "codemirror_mode": {
    "name": "ipython",
    "version": 3
   },
   "file_extension": ".py",
   "mimetype": "text/x-python",
   "name": "python",
   "nbconvert_exporter": "python",
   "pygments_lexer": "ipython3",
   "version": "3.9.5"
  },
  "orig_nbformat": 4,
  "vscode": {
   "interpreter": {
    "hash": "f3afe33e2ab4e886e2cfdae0da08c25d87b068f7616b32e3cb58d25252cf6f6a"
   }
  }
 },
 "nbformat": 4,
 "nbformat_minor": 2
}
